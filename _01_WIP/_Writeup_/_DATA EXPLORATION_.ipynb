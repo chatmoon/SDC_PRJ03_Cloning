{
 "cells": [
  {
   "cell_type": "markdown",
   "metadata": {},
   "source": [
    "### Step 1: Data Set Summary & Exploration\n",
    "\n",
    "#### 1.1. Distribution: the sample data "
   ]
  },
  {
   "cell_type": "code",
   "execution_count": 1,
   "metadata": {
    "collapsed": true
   },
   "outputs": [],
   "source": [
    "# Step 1: Data Set Summary & Exploration\n",
    "# In[1]: --------------------------------------------\n",
    "import numpy as np\n",
    "import pandas\n",
    "import matplotlib.pyplot as plt\n",
    "import matplotlib.image as mpimg\n",
    "import cv2\n",
    "import random\n",
    "from sklearn.utils import shuffle\n",
    "plt.style.use('ggplot')\n",
    "#plt.imshow(img)\n",
    "%matplotlib inline\n",
    "\n",
    "# In[2]: --------------------------------------------\n",
    "pathData0 = 'C:/Users/mo/home/_eSDC2_/_PRJ03_/_2_WIP/_171126-1433_BehavioralCloning/'\n",
    "pathData1 = pathData0+'data/'\n",
    "pathData2 = pathData1+'sample/'\n",
    "pathData3 = pathData2+'IMG/'\n",
    "pathData4 = pathData0+'logs/'\n",
    "pathData5 = pathData4+'model/'\n",
    "pathData6 = pathData4+'nn_logs/'\n",
    "\n",
    "colnames = ['center', 'left', 'right', 'steering', 'throttle', 'brake', 'speed']\n",
    "\n",
    "# In[3]: --------------------------------------------\n",
    "driving_log = pandas.read_csv(pathData2+'driving_log.csv', skiprows=[0], names=colnames)\n",
    "center      = driving_log.center.tolist()\n",
    "left        = driving_log.left.tolist()\n",
    "right       = driving_log.right.tolist()\n",
    "steering    = driving_log.steering.tolist()\n",
    "throttle    = driving_log.throttle.tolist()\n",
    "brake       = driving_log.brake.tolist()\n",
    "speed       = driving_log.speed.tolist()"
   ]
  },
  {
   "cell_type": "code",
   "execution_count": 51,
   "metadata": {
    "collapsed": false
   },
   "outputs": [
    {
     "data": {
      "text/plain": [
       "<matplotlib.axes._subplots.AxesSubplot at 0x1b66a8dfeb8>"
      ]
     },
     "execution_count": 51,
     "metadata": {},
     "output_type": "execute_result"
    },
    {
     "data": {
      "text/plain": [
       "<matplotlib.figure.Figure at 0x1b66aceb780>"
      ]
     },
     "metadata": {},
     "output_type": "display_data"
    },
    {
     "data": {
      "image/png": "[encoded data removed]",
      "text/plain": [
       "<matplotlib.figure.Figure at 0x1b66c594240>"
      ]
     },
     "metadata": {},
     "output_type": "display_data"
    }
   ],
   "source": [
    "# In[4]: --------------------------------------------\n",
    "dic0 = {'z_aug0': steering}\n",
    "dfr0 = pandas.DataFrame( dic0, columns=['z_aug0'] )\n",
    "plt.figure();\n",
    "dfr0.plot.hist(xlim=(-0.8, 0.8), color='#F0433A', stacked=True, bins=50)"
   ]
  },
  {
   "cell_type": "markdown",
   "metadata": {},
   "source": [
    "#### 1.2. Distribution: data augmentation - part 1"
   ]
  },
  {
   "cell_type": "code",
   "execution_count": null,
   "metadata": {
    "collapsed": true
   },
   "outputs": [],
   "source": [
    "# C:\\Users\\mo\\home\\_eSDC2_\\_PRJ03_\\_2_WIP\\_171126-1433_BehavioralCloning\\...\n",
    "#   ...GitHub\\_01_WIP\\_Coding_\\_1_pre-train\\BSF_tools_171203-2024.py"
   ]
  },
  {
   "cell_type": "code",
   "execution_count": 2,
   "metadata": {
    "collapsed": true
   },
   "outputs": [],
   "source": [
    "# In[x]: --------------------------------------------   \n",
    "shuffle(steering)\n",
    "delta=0.2\n",
    "angles = []\n",
    "    \n",
    "for angle in steering:\n",
    "    # Import labels\n",
    "    for i in range(3):\n",
    "        if   i == 1: # images from the left\n",
    "            angles.append(angle+delta)\n",
    "        elif i == 2: # images from the right\n",
    "            angles.append(angle-delta)\n",
    "        else: # images from the center\n",
    "            angles.append(angle)"
   ]
  },
  {
   "cell_type": "code",
   "execution_count": 56,
   "metadata": {
    "collapsed": false
   },
   "outputs": [
    {
     "data": {
      "text/plain": [
       "<matplotlib.axes._subplots.AxesSubplot at 0x1b66aac00b8>"
      ]
     },
     "execution_count": 56,
     "metadata": {},
     "output_type": "execute_result"
    },
    {
     "data": {
      "text/plain": [
       "<matplotlib.figure.Figure at 0x1b66c9b3f60>"
      ]
     },
     "metadata": {},
     "output_type": "display_data"
    },
    {
     "data": {
      "image/png": "[encoded data removed]",
      "text/plain": [
       "<matplotlib.figure.Figure at 0x1b66cfafeb8>"
      ]
     },
     "metadata": {},
     "output_type": "display_data"
    }
   ],
   "source": [
    "# In[x]: --------------------------------------------\n",
    "dic1 = {'z_aug0': steering, 'y_aug1': angles}\n",
    "dfr1 = pandas.DataFrame(dict([ (u,pandas.Series(v)) for u,v in dic1.items() ]))\n",
    "plt.figure();\n",
    "dfr1.plot.hist(xlim=(-0.8, 0.8), color=('#C9283E', '#F0433A'), bins=50)"
   ]
  },
  {
   "cell_type": "markdown",
   "metadata": {},
   "source": [
    "#### 1.3. Distribution: data augmentation - part 2"
   ]
  },
  {
   "cell_type": "code",
   "execution_count": 42,
   "metadata": {
    "collapsed": false
   },
   "outputs": [],
   "source": [
    "# In[x]: --------------------------------------------\n",
    "delta=0.25\n",
    "augmented_angles = []\n",
    "for angle in angles:\n",
    "    augmented_angles.append(angle)  \n",
    "    if np.random.rand() < 0.5:\n",
    "        # Adjust the steering angle for flipt image \n",
    "        augmented_angles.append(angle*(-1.0))"
   ]
  },
  {
   "cell_type": "code",
   "execution_count": 43,
   "metadata": {
    "collapsed": false
   },
   "outputs": [
    {
     "data": {
      "text/plain": [
       "<matplotlib.axes._subplots.AxesSubplot at 0x1b66a0f4b38>"
      ]
     },
     "execution_count": 43,
     "metadata": {},
     "output_type": "execute_result"
    },
    {
     "data": {
      "text/plain": [
       "<matplotlib.figure.Figure at 0x1b668e41cf8>"
      ]
     },
     "metadata": {},
     "output_type": "display_data"
    },
    {
     "data": {
      "image/png": "[encoded data removed]",
      "text/plain": [
       "<matplotlib.figure.Figure at 0x1b66a0b7a90>"
      ]
     },
     "metadata": {},
     "output_type": "display_data"
    }
   ],
   "source": [
    "# In[x]: --------------------------------------------\n",
    "dic2 = {'z_aug0': steering, 'y_aug1': angles, 'x_aug2': augmented_angles}\n",
    "dfr2 = pandas.DataFrame(dict([ (u,pandas.Series(v)) for u,v in dic2.items() ]))\n",
    "plt.figure();\n",
    "dfr2.plot.hist(xlim=(-0.8, 0.8), color=('#820333','#C9283E', '#F0433A'), bins=50)"
   ]
  },
  {
   "cell_type": "markdown",
   "metadata": {},
   "source": [
    "#### 1.4. Finte tune: delta = 0.25"
   ]
  },
  {
   "cell_type": "markdown",
   "metadata": {},
   "source": [
    "z_aug0 : { sample: initial data }   \n",
    "y_aug1 : { angles: use of left and right images to recover from the side to the center }   \n",
    "x_aug2 : { augmented_angles: flipt image }"
   ]
  },
  {
   "cell_type": "code",
   "execution_count": 44,
   "metadata": {
    "collapsed": true
   },
   "outputs": [],
   "source": [
    "# In[x]: --------------------------------------------   \n",
    "shuffle(steering)\n",
    "delt2=0.25\n",
    "angl2s = []\n",
    "    \n",
    "for angl2 in steering:\n",
    "    # Import labels\n",
    "    for i in range(3):\n",
    "        if   i == 1: # images from the left\n",
    "            angl2s.append(angl2+delt2)\n",
    "        elif i == 2: # images from the right\n",
    "            angl2s.append(angl2-delt2)\n",
    "        else: # images from the center\n",
    "            angl2s.append(angl2)\n",
    "            \n",
    "augmented_angl2s = []\n",
    "for angl2 in angl2s:\n",
    "    augmented_angl2s.append(angl2)  \n",
    "    if np.random.rand() < 0.5:\n",
    "        # Adjust the steering angle for flipt image \n",
    "        augmented_angl2s.append(angl2*(-1.0))"
   ]
  },
  {
   "cell_type": "code",
   "execution_count": 66,
   "metadata": {
    "collapsed": false
   },
   "outputs": [
    {
     "data": {
      "text/plain": [
       "<matplotlib.axes._subplots.AxesSubplot at 0x1b670c619b0>"
      ]
     },
     "execution_count": 66,
     "metadata": {},
     "output_type": "execute_result"
    },
    {
     "data": {
      "text/plain": [
       "<matplotlib.figure.Figure at 0x1b670cc8f60>"
      ]
     },
     "metadata": {},
     "output_type": "display_data"
    },
    {
     "data": {
      "image/png": "[encoded data removed]",
      "text/plain": [
       "<matplotlib.figure.Figure at 0x1b670bf1e10>"
      ]
     },
     "metadata": {},
     "output_type": "display_data"
    }
   ],
   "source": [
    "# In[x]: --------------------------------------------\n",
    "dic3 =  {'z_aug0': steering,'y_aug1': angles, 'w_aug1': angl2s, 'x_aug2': augmented_angles, 'v_aug2': augmented_angl2s}\n",
    "dfr3 = pandas.DataFrame(dict([ (u,pandas.Series(v)) for u,v in dic3.items() ]))\n",
    "plt.figure();\n",
    "dfr3.plot.hist(xlim=(-0.8, 0.8), color=('#35478C', '#4E7AC7','#820333','#C9283E', '#F0433A'), bins=50)"
   ]
  },
  {
   "cell_type": "code",
   "execution_count": null,
   "metadata": {
    "collapsed": true
   },
   "outputs": [],
   "source": []
  },
  {
   "cell_type": "code",
   "execution_count": null,
   "metadata": {
    "collapsed": true
   },
   "outputs": [],
   "source": []
  },
  {
   "cell_type": "code",
   "execution_count": null,
   "metadata": {
    "collapsed": true
   },
   "outputs": [],
   "source": []
  },
  {
   "cell_type": "code",
   "execution_count": null,
   "metadata": {
    "collapsed": true
   },
   "outputs": [],
   "source": []
  },
  {
   "cell_type": "code",
   "execution_count": null,
   "metadata": {
    "collapsed": true
   },
   "outputs": [],
   "source": []
  },
  {
   "cell_type": "code",
   "execution_count": null,
   "metadata": {
    "collapsed": true
   },
   "outputs": [],
   "source": []
  },
  {
   "cell_type": "code",
   "execution_count": null,
   "metadata": {
    "collapsed": true
   },
   "outputs": [],
   "source": []
  },
  {
   "cell_type": "code",
   "execution_count": null,
   "metadata": {
    "collapsed": true
   },
   "outputs": [],
   "source": []
  },
  {
   "cell_type": "code",
   "execution_count": null,
   "metadata": {
    "collapsed": true
   },
   "outputs": [],
   "source": []
  },
  {
   "cell_type": "code",
   "execution_count": null,
   "metadata": {
    "collapsed": true
   },
   "outputs": [],
   "source": []
  },
  {
   "cell_type": "code",
   "execution_count": null,
   "metadata": {
    "collapsed": true
   },
   "outputs": [],
   "source": []
  },
  {
   "cell_type": "code",
   "execution_count": null,
   "metadata": {
    "collapsed": true
   },
   "outputs": [],
   "source": []
  },
  {
   "cell_type": "code",
   "execution_count": null,
   "metadata": {
    "collapsed": true
   },
   "outputs": [],
   "source": []
  },
  {
   "cell_type": "code",
   "execution_count": null,
   "metadata": {
    "collapsed": true
   },
   "outputs": [],
   "source": []
  },
  {
   "cell_type": "code",
   "execution_count": null,
   "metadata": {
    "collapsed": true
   },
   "outputs": [],
   "source": []
  },
  {
   "cell_type": "code",
   "execution_count": null,
   "metadata": {
    "collapsed": true
   },
   "outputs": [],
   "source": []
  },
  {
   "cell_type": "code",
   "execution_count": null,
   "metadata": {
    "collapsed": true
   },
   "outputs": [],
   "source": []
  },
  {
   "cell_type": "code",
   "execution_count": null,
   "metadata": {
    "collapsed": true
   },
   "outputs": [],
   "source": []
  },
  {
   "cell_type": "code",
   "execution_count": null,
   "metadata": {
    "collapsed": true
   },
   "outputs": [],
   "source": []
  },
  {
   "cell_type": "code",
   "execution_count": null,
   "metadata": {
    "collapsed": true
   },
   "outputs": [],
   "source": []
  },
  {
   "cell_type": "code",
   "execution_count": null,
   "metadata": {
    "collapsed": true
   },
   "outputs": [],
   "source": []
  },
  {
   "cell_type": "code",
   "execution_count": null,
   "metadata": {
    "collapsed": true
   },
   "outputs": [],
   "source": []
  },
  {
   "cell_type": "code",
   "execution_count": null,
   "metadata": {
    "collapsed": true
   },
   "outputs": [],
   "source": []
  },
  {
   "cell_type": "code",
   "execution_count": null,
   "metadata": {
    "collapsed": true
   },
   "outputs": [],
   "source": []
  },
  {
   "cell_type": "code",
   "execution_count": null,
   "metadata": {
    "collapsed": false
   },
   "outputs": [],
   "source": []
  },
  {
   "cell_type": "code",
   "execution_count": null,
   "metadata": {
    "collapsed": false
   },
   "outputs": [],
   "source": []
  },
  {
   "cell_type": "code",
   "execution_count": null,
   "metadata": {
    "collapsed": false
   },
   "outputs": [],
   "source": []
  },
  {
   "cell_type": "code",
   "execution_count": null,
   "metadata": {
    "collapsed": false
   },
   "outputs": [],
   "source": []
  },
  {
   "cell_type": "code",
   "execution_count": null,
   "metadata": {
    "collapsed": false
   },
   "outputs": [],
   "source": []
  },
  {
   "cell_type": "code",
   "execution_count": null,
   "metadata": {
    "collapsed": false
   },
   "outputs": [],
   "source": []
  },
  {
   "cell_type": "code",
   "execution_count": null,
   "metadata": {
    "collapsed": false
   },
   "outputs": [],
   "source": []
  },
  {
   "cell_type": "code",
   "execution_count": null,
   "metadata": {
    "collapsed": true
   },
   "outputs": [],
   "source": []
  },
  {
   "cell_type": "code",
   "execution_count": null,
   "metadata": {
    "collapsed": true
   },
   "outputs": [],
   "source": []
  },
  {
   "cell_type": "markdown",
   "metadata": {},
   "source": [
    "# ANNEXE"
   ]
  },
  {
   "cell_type": "code",
   "execution_count": null,
   "metadata": {
    "collapsed": true
   },
   "outputs": [],
   "source": []
  },
  {
   "cell_type": "code",
   "execution_count": null,
   "metadata": {
    "collapsed": true
   },
   "outputs": [],
   "source": []
  },
  {
   "cell_type": "markdown",
   "metadata": {},
   "source": [
    "### NEW CODE"
   ]
  },
  {
   "cell_type": "code",
   "execution_count": null,
   "metadata": {
    "collapsed": false
   },
   "outputs": [],
   "source": [
    "# DELETE\n",
    "index = 2500\n",
    "plt.imshow(read_image(center, index,pathData3))\n",
    "read_angle(steering, index)"
   ]
  },
  {
   "cell_type": "code",
   "execution_count": null,
   "metadata": {
    "collapsed": true
   },
   "outputs": [],
   "source": [
    "# DELETE\n",
    "def debugTrace(str0,ope0, count0, frep0=100, activate=True): # DELETE\n",
    "    if activate and count0%frep0 == 0:\n",
    "        print()\n",
    "        print(str0+' : {}'.format(ope0))\n",
    "        #print()"
   ]
  },
  {
   "cell_type": "code",
   "execution_count": null,
   "metadata": {
    "collapsed": true
   },
   "outputs": [],
   "source": [
    "# Read steering angles\n",
    "source_path = center[]\n",
    "filename = source_path.split('\\\\')[-1] # ('/')[-1] # file name\n",
    "current_path = pathData3 + filename"
   ]
  },
  {
   "cell_type": "code",
   "execution_count": null,
   "metadata": {
    "collapsed": false
   },
   "outputs": [],
   "source": [
    "def shift_horizontal(list1, list2, list3, list4, list5, list6, pXl=pXl, path=pathData3):    \n",
    "    '''\n",
    "    ex:\n",
    "    shift_horizontal(list1=center, list2=steering,\n",
    "                     list3=images_turn_right, list4=images_turn_left,\n",
    "                     list5=angles_turn_right, list6=angles_turn_left,\n",
    "                     pXl=pXl, path=pathData3)\n",
    "    return list3, list4, list5, list6\n",
    "    '''\n",
    "    for i in range( int(len(list1)-len(list3)) ):\n",
    "        index = random.randint(0,len(list1)-1)\n",
    "        \n",
    "        xPxl, count = 0, 0\n",
    "        while xPxl==0:\n",
    "            xPxl = random.randint(-pXl, pXl)\n",
    "            count += 1\n",
    "            if count > 3:\n",
    "                xPxl = pXl\n",
    "                break\n",
    "                \n",
    "        # Read images\n",
    "        source_path  = list1[index]\n",
    "        filename     = source_path.split('\\\\')[-1]\n",
    "        current_path = path + filename\n",
    "        image        = cv2.imread(current_path)\n",
    "        \n",
    "        rows, cols, ch = image.shape       \n",
    "        \n",
    "        M = np.float32([[1,0,xPxl],[0,1,0]])\n",
    "        image = cv2.warpAffine(image,M,(cols,rows))\n",
    "\n",
    "        if   xPxl > 0:\n",
    "            list3.append(image)\n",
    "            list5.append(list2[index]+pxlRate*xPxl)\n",
    "        elif xPxl < 0:\n",
    "            list4.append(image)\n",
    "            list6.append(list2[index]+pxlRate*xPxl)\n",
    "\n",
    "    return list3, list4, list5, list6"
   ]
  },
  {
   "cell_type": "code",
   "execution_count": null,
   "metadata": {
    "collapsed": true
   },
   "outputs": [],
   "source": [
    "images_turn_right, images_turn_left, angles_turn_right, angles_turn_left = shift_horizontal(center, steering, images_turn_right, images_turn_left, angles_turn_right, angles_turn_left, pXl)"
   ]
  },
  {
   "cell_type": "code",
   "execution_count": null,
   "metadata": {
    "collapsed": true
   },
   "outputs": [],
   "source": [
    "images_turn_left, images_turn_right, angles_turn_left, angles_turn_right = shift_horizontal(center, steering, images_turn_left, images_turn_right, angles_turn_left, angles_turn_right, pXl)"
   ]
  },
  {
   "cell_type": "code",
   "execution_count": null,
   "metadata": {
    "collapsed": false
   },
   "outputs": [],
   "source": [
    "len(angles_turn_right)"
   ]
  },
  {
   "cell_type": "code",
   "execution_count": null,
   "metadata": {
    "collapsed": true
   },
   "outputs": [],
   "source": [
    "dic0 = {'steering': steering, 'angles_turn_right': angles_turn_right, 'angles_turn_left': angles_turn_left}\n",
    "df10 = pandas.DataFrame.from_dict(dic0, orient='index')\n",
    "df10.transpose()\n",
    "\n",
    "plt.figure();\n",
    "df10.plot.hist(stacked=True, bins=20)"
   ]
  },
  {
   "cell_type": "code",
   "execution_count": null,
   "metadata": {
    "collapsed": true
   },
   "outputs": [],
   "source": []
  },
  {
   "cell_type": "code",
   "execution_count": null,
   "metadata": {
    "collapsed": false
   },
   "outputs": [],
   "source": [
    "# CODE TO KEEP\n",
    "while True: # Loop forever so the generator never terminates\n",
    "    center, left, right, steering, throttle, brake, speed = shuffle(center, left, right, steering, throttle, brake, speed)\n",
    "       \n",
    "    for offset in range(0, num_lines, batch_size):  # range(0, 100, batch_size):\n",
    "        batch_lines = range(offset,offset+batch_size)\n",
    "        \n",
    "        # Import images and labels\n",
    "        images, images_center, images_turn_left, images_turn_right, images_addon_right, images_addon_left = [],[],[],[],[],[]\n",
    "        angles, angles_center, angles_turn_left, angles_turn_right, angles_addon_right, angles_addon_left = [],[],[],[],[],[]\n",
    "        \n",
    "        for batch_sample in batch_lines: # batch_lines = range(offset,offset+batch_size)\n",
    "            # Read steering angle and image\n",
    "            angle        = float(steering[batch_sample])\n",
    "            image_center = cv2.imread(pathData3 + center[batch_sample].split('\\\\')[-1])\n",
    "            image_left   = cv2.imread(pathData3 +   left[batch_sample].split('\\\\')[-1])\n",
    "            image_right  = cv2.imread(pathData3 +  right[batch_sample].split('\\\\')[-1])\n",
    "            \n",
    "            # Crop images > [65,320,3]  (to spare the RAM and speedup the computation)         \n",
    "            image_center, image_left, image_right = image_center[70:-25, :, :], image_left[70:-25, :, :], image_right[70:-25, :, :]\n",
    "            \n",
    "            # Resize, http://tanbakuchi.com/posts/comparison-of-openv-interpolation-algorithms/\n",
    "            image_center = cv2.resize(image_center, (image_width, image_height), cv2.INTER_AREA)\n",
    "            image_left   = cv2.resize(image_left  , (image_width, image_height), cv2.INTER_AREA)\n",
    "            image_right  = cv2.resize(image_right , (image_width, image_height), cv2.INTER_AREA)\n",
    "            \n",
    "            # Rebalance data: [0 : 'center', 1 : 'left', 2 : 'right', 3 : 'steering']\n",
    "            if   angle > 0.15:\n",
    "                # Recovery: turn right > left camera\n",
    "                images_turn_right.append(image_left)\n",
    "                angles_turn_right.append(angle+delta)  \n",
    "                # Flip the image and adjust the steering angle: center vs (left, right)\n",
    "                images_addon_left.append(cv2.flip(images_turn_right[-1],1))\n",
    "                angles_addon_left.append(angles_turn_right[-1]*(-1.0))\n",
    "            elif angle < -0.15:  \n",
    "                # Recovery: turn left > right camera\n",
    "                images_turn_left.append(image_right)\n",
    "                angles_turn_left.append(angle-delta)\n",
    "                # Flip the image and adjust the steering angle: center vs (left, right)\n",
    "                images_addon_right.append(cv2.flip(images_turn_left[-1],1))\n",
    "                angles_addon_right.append(angles_turn_left[-1]*(-1.0))\n",
    "            else:\n",
    "                # Center > import images and output labels (steering angles)\n",
    "                images_center.append(image_center)\n",
    "                angles_center.append(angle)\n",
    "            \n",
    "        # Merge\n",
    "        images_turn_right, angles_turn_right = images_turn_right + images_addon_right, angles_turn_right + angles_addon_right\n",
    "        images_turn_left, angles_turn_left   = images_turn_left + images_addon_left, angles_turn_left + angles_addon_left\n",
    "\n",
    "        # Translate\n",
    "        images_turn_right, images_turn_left, angles_turn_right, angles_turn_left = shift_horizontal(center, steering, images_turn_right, images_turn_left, angles_turn_right, angles_turn_left, pXl)\n",
    "        images_turn_left, images_turn_right, angles_turn_left, angles_turn_right = shift_horizontal(center, steering, images_turn_left, images_turn_right, angles_turn_left, angles_turn_right, pXl)\n",
    "        \n",
    "        # Merge\n",
    "        images = images_center + images_turn_left + images_turn_right \n",
    "        angles = angles_center + angles_turn_left + angles_turn_right\n",
    "        \n",
    "        # Randomly change brightness (to simulate day and night conditions) / hsv: hue, saturation, value\n",
    "        augmented_images, augmented_angles = [], []\n",
    "        for image, angle in zip(images,angles):\n",
    "            if np.random.rand() < 0.5:\n",
    "                image  = cv2.cvtColor(image, cv2.COLOR_RGB2HSV)\n",
    "                rate   = 1.0 + 0.4 * (np.random.rand() - 0.5)\n",
    "                image[:,:,2] =  image[:,:,2] * rate\n",
    "                image  = cv2.cvtColor(image, cv2.COLOR_HSV2RGB)\n",
    "            # if np.random.rand() < 0.5:\n",
    "            #     # Randomly shear the image\n",
    "            #     delta = np.random.randint(-100,100)\n",
    "            #     pts1  = np.float32([[0,image_height],[image_width, image_height],[image_width/2,image_height/2]])\n",
    "            #     pts2  = np.float32([[0,image_height],[image_width, image_height],[image_width/2+delta,image_height/2]])   \n",
    "            #     M     = cv2.getAffineTransform(pts1,pts2)\n",
    "            #     image = cv2.warpAffine(image,M,(image_width, image_height),borderMode=1)\n",
    "            #     angle+= delta/(image_height/2) * 360/(2*np.pi*25.0) / 6.0\n",
    "            # Add to the list\n",
    "            augmented_images.append(image)\n",
    "            augmented_angles.append(angle)\n",
    "\n",
    "        # Convert images and labels into np.array\n",
    "        X_train = np.array(augmented_images)  # X_train.shape = (143, 32, 155, 3)\n",
    "        y_train = np.array(augmented_angles)\n",
    "        \n",
    "        X_train, y_train = shuffle(X_train, y_train)\n",
    "        \n",
    "        "
   ]
  },
  {
   "cell_type": "code",
   "execution_count": null,
   "metadata": {
    "collapsed": true
   },
   "outputs": [],
   "source": [
    "len(angles_turn_right)"
   ]
  },
  {
   "cell_type": "code",
   "execution_count": null,
   "metadata": {
    "collapsed": true
   },
   "outputs": [],
   "source": [
    "dic0 = {'steering': steering, 'angles_turn_right': angles_turn_right, 'angles_turn_left': angles_turn_left}\n",
    "df10 = pandas.DataFrame.from_dict(dic0, orient='index')\n",
    "df10.transpose()\n",
    "\n",
    "plt.figure();\n",
    "df10.plot.hist(stacked=True, bins=20)"
   ]
  },
  {
   "cell_type": "code",
   "execution_count": null,
   "metadata": {
    "collapsed": false
   },
   "outputs": [],
   "source": [
    "# CODE TO KEEP\n",
    "while True: # True <- # update change before testing in real data # Loop forever so the generator never terminates\n",
    "    center, left, right, steering, throttle, brake, speed = shuffle(center, left, right, steering, throttle, brake, speed)\n",
    "       \n",
    "    for offset in range(0, 100, batch_size):  # range(0, num_lines, batch_size):  # update change before testing in real data\n",
    "        batch_lines = range(offset,offset+batch_size)\n",
    "        \n",
    "        # Import images and labels\n",
    "        images, images_center, images_turn_left, images_turn_right, images_addon_right, images_addon_left = [],[],[],[],[],[]\n",
    "        angles, angles_center, angles_turn_left, angles_turn_right, angles_addon_right, angles_addon_left = [],[],[],[],[],[]\n",
    "        \n",
    "        for batch_sample in batch_lines: # batch_lines = range(offset,offset+batch_size)\n",
    "            # Read steering angles\n",
    "            angle = float(steering[batch_sample])\n",
    "            \n",
    "            # Rebalance data: [0 : 'center', 1 : 'left', 2 : 'right', 3 : 'steering']\n",
    "            if   angle > 0.15:\n",
    "                # Recovery: turn right > left camera\n",
    "                images_turn_right.append(cv2.imread(pathData3 + left[batch_sample].split('\\\\')[-1]))\n",
    "                angles_turn_right.append(angle+delta)  \n",
    "                # Flip the image and adjust the steering angle: center vs (left, right)\n",
    "                images_addon_left.append(cv2.flip(images_turn_right[-1],1))\n",
    "                angles_addon_left.append(angles_turn_right[-1]*(-1.0))\n",
    "            elif angle < -0.15:  \n",
    "                # Recovery: turn left > right camera\n",
    "                images_turn_left.append(cv2.imread(pathData3 + right[batch_sample].split('\\\\')[-1]))\n",
    "                angles_turn_left.append(angle-delta)\n",
    "                # Flip the image and adjust the steering angle: center vs (left, right)\n",
    "                images_addon_right.append(cv2.flip(images_turn_left[-1],1))\n",
    "                angles_addon_right.append(angles_turn_left[-1]*(-1.0))\n",
    "            else:\n",
    "                # Center > import images and output labels (steering angles)\n",
    "                images_center.append(cv2.imread(pathData3 + center[batch_sample].split('\\\\')[-1]))\n",
    "                angles_center.append(angle)\n",
    "            \n",
    "            ### . merge\n",
    "        images_turn_right, angles_turn_right = images_turn_right + images_addon_right, angles_turn_right + angles_addon_right\n",
    "        images_turn_left, angles_turn_left   = images_turn_left + images_addon_left, angles_turn_left + angles_addon_left\n",
    "\n",
    "            ## . Translate\n",
    "        images_turn_right, images_turn_left, angles_turn_right, angles_turn_left = shift_horizontal(center, steering, images_turn_right, images_turn_left, angles_turn_right, angles_turn_left, pXl)\n",
    "        images_turn_left, images_turn_right, angles_turn_left, angles_turn_right = shift_horizontal(center, steering, images_turn_left, images_turn_right, angles_turn_left, angles_turn_right, pXl)\n",
    "        \n",
    "        # Merge\n",
    "        images = images_center + images_turn_left + images_turn_right \n",
    "        angles = angles_center + angles_turn_left + angles_turn_right\n",
    "        \n",
    "        \n",
    "        # Cropping and resizing\n",
    "        augmented_images, augmented_angles = [], []\n",
    "        for image, angle in zip(images,angles):\n",
    "            # Crop\n",
    "            image = image[70:-25, :, :]    # (65,320,3)\n",
    "            # Resize, http://tanbakuchi.com/posts/comparison-of-openv-interpolation-algorithms/\n",
    "            image = cv2.resize(image, (image_width, image_height), cv2.INTER_AREA)\n",
    "            # Save\n",
    "            augmented_images.append(image) # (32,155,3)\n",
    "            augmented_angles.append(angle)\n",
    "\n",
    "            if np.random.rand() < 0.5:\n",
    "                # Randomly change brightness (to simulate day and night conditions)\n",
    "                image  = cv2.cvtColor(image, cv2.COLOR_RGB2HSV) # hsv: hue, saturation, value\n",
    "                rate   = 1.0 + 0.4 * (np.random.rand() - 0.5)\n",
    "                image[:,:,2] =  image[:,:,2] * rate\n",
    "                image  = cv2.cvtColor(image, cv2.COLOR_HSV2RGB)\n",
    "            # if np.random.rand() < 0.5:\n",
    "            #     # Randomly shear the image\n",
    "            #     delta = np.random.randint(-100,100)\n",
    "            #     pts1  = np.float32([[0,image_height],[image_width, image_height],[image_width/2,image_height/2]])\n",
    "            #     pts2  = np.float32([[0,image_height],[image_width, image_height],[image_width/2+delta,image_height/2]])   \n",
    "            #     M     = cv2.getAffineTransform(pts1,pts2)\n",
    "            #     image = cv2.warpAffine(image,M,(image_width, image_height),borderMode=1)\n",
    "            #     angle+= delta/(image_height/2) * 360/(2*np.pi*25.0) / 6.0\n",
    "            # Add to the list\n",
    "            augmented_images.append(image)\n",
    "            augmented_angles.append(angle)\n",
    "\n",
    "        # Convert images and labels into np.array\n",
    "        X_train = np.array(augmented_images)  # X_train.shape = (143, 32, 155, 3)\n",
    "        y_train = np.array(augmented_angles)\n",
    "        \n",
    "        X_train, y_train = shuffle(X_train, y_train)\n",
    "        \n",
    "        "
   ]
  },
  {
   "cell_type": "code",
   "execution_count": null,
   "metadata": {
    "collapsed": true
   },
   "outputs": [],
   "source": [
    "# In[x]: --------------------------------------------\n",
    "dic3 = {'steering': steering, 'angles': angles, 'augmented_angles': augmented_angles}\n",
    "dfr3 = pandas.DataFrame.from_dict( dic3, orient='index' )\n",
    "dfr3.transpose()\n",
    "plt.figure();\n",
    "dfr3.plot.hist(xlim=(-0.8, 0.8), stacked=True, bins=50)\n"
   ]
  },
  {
   "cell_type": "code",
   "execution_count": null,
   "metadata": {
    "collapsed": false
   },
   "outputs": [],
   "source": [
    "# DELETE\n",
    "# ---\n",
    "d0 = dict([ (u,pandas.Series(v)) for u,v in dic3.items() ])\n",
    "# ---\n",
    "a = []\n",
    "for i in range(0,100,3):\n",
    "    a.append(i)\n",
    "b = pandas.Series(a)\n",
    "# ---\n",
    "count = 0\n",
    "for u,v,w in dic3.keys():\n",
    "    if count%1000 == 0:\n",
    "        print('u: {} , v: {} , w: {}'.format(u,v,'w'))\n",
    "    count +=1\n",
    "# ---\n",
    "dic3 = {'steering': steering, 'angles': angles , 'augmented_angles': augmented_angles}\n",
    "dfr3 = pandas.DataFrame(dict([ (u,pandas.Series(v), pandas.Series(w)) for v,v,w in dic3.items() ]))\n",
    "plt.figure();\n",
    "dfr3.plot.hist(xlim=(-0.8, 0.8), bins=50)\n",
    "# ---\n",
    "plt.figure();\n",
    "dfr3.plot.hist(xlim=(-0.8, 0.8), stacked=True, bins=50)\n",
    "# ---\n",
    "#len(steering) # 8035\n",
    "len([1 for i in steering if (i < 0.039) and (i > -0.039)]) # 4360  4451\n",
    "#len(np.unique(steering)) # 124\n",
    "# ---\n",
    "k = 5 # { 1: 4531; 2: 361; 3: 277; 4: 189; 5: 479 }\n",
    "len([1 for i in steering if (i >= 0.039*(k-1)) and (i < 0.039*k)]) \n",
    "# ---\n",
    "a = min(steering)\n",
    "b = max(steering)\n",
    "print('[{};{}]'.format(a,b))\n",
    "# ---\n",
    "#(b-a)/50\n",
    "0.039*2\n",
    "# ---\n",
    "dic0 = {'steering': steering}\n",
    "df10 = pandas.DataFrame.from_dict(dic0, orient='index')\n",
    "df10.transpose()\n",
    "# ---\n",
    "\n",
    "# ---\n",
    "data.groupby('class').plas.hist(alpha=0.4)"
   ]
  },
  {
   "cell_type": "code",
   "execution_count": 37,
   "metadata": {
    "collapsed": false
   },
   "outputs": [
    {
     "data": {
      "text/plain": [
       "<matplotlib.axes._subplots.AxesSubplot at 0x1b6687eecf8>"
      ]
     },
     "execution_count": 37,
     "metadata": {},
     "output_type": "execute_result"
    },
    {
     "data": {
      "text/plain": [
       "<matplotlib.figure.Figure at 0x1b6686596a0>"
      ]
     },
     "metadata": {},
     "output_type": "display_data"
    },
    {
     "data": {
      "image/png": "[encoded data removed]",
      "text/plain": [
       "<matplotlib.figure.Figure at 0x1b668fdb128>"
      ]
     },
     "metadata": {},
     "output_type": "display_data"
    }
   ],
   "source": [
    "# In[x]: --------------------------------------------\n",
    "dic2 = {'z_aug0': steering, 'y_aug1': angles, 'x_aug2': augmented_angles}\n",
    "dfr2 = pandas.DataFrame(dict([ (u,pandas.Series(v)) for u,v in dic2.items() ]))\n",
    "plt.figure();\n",
    "dfr2.plot.hist(xlim=(-0.8, 0.8), color=('#820333','#C9283E', '#F0433A'), bins=50)"
   ]
  }
 ],
 "metadata": {
  "anaconda-cloud": {},
  "kernelspec": {
   "display_name": "Python [default]",
   "language": "python",
   "name": "python3"
  },
  "language_info": {
   "codemirror_mode": {
    "name": "ipython",
    "version": 3
   },
   "file_extension": ".py",
   "mimetype": "text/x-python",
   "name": "python",
   "nbconvert_exporter": "python",
   "pygments_lexer": "ipython3",
   "version": "3.5.2"
  }
 },
 "nbformat": 4,
 "nbformat_minor": 1
}
